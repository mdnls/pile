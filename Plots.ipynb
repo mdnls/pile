{
 "cells": [
  {
   "cell_type": "markdown",
   "source": [
    "# Physics Informed Log-Evidence"
   ],
   "metadata": {
    "collapsed": false
   },
   "id": "e7a259102bcdbe87"
  },
  {
   "cell_type": "code",
   "outputs": [
    {
     "name": "stdout",
     "output_type": "stream",
     "text": [
      "d_6000.pkl\n",
      "d_4000.pkl\n",
      "d_8000.pkl\n",
      "d_0.pkl\n",
      "d_2000.pkl\n",
      "d_7000.pkl\n",
      "d_5000.pkl\n"
     ]
    },
    {
     "ename": "UnpicklingError",
     "evalue": "could not find MARK",
     "output_type": "error",
     "traceback": [
      "\u001B[0;31m---------------------------------------------------------------------------\u001B[0m",
      "\u001B[0;31mUnpicklingError\u001B[0m                           Traceback (most recent call last)",
      "Cell \u001B[0;32mIn[2], line 9\u001B[0m\n\u001B[1;32m      7\u001B[0m \u001B[38;5;28;01mfor\u001B[39;00m d \u001B[38;5;129;01min\u001B[39;00m d_opts:\n\u001B[1;32m      8\u001B[0m     \u001B[38;5;28;01mwith\u001B[39;00m \u001B[38;5;28mopen\u001B[39m(d_path \u001B[38;5;241m+\u001B[39m \u001B[38;5;124m\"\u001B[39m\u001B[38;5;124m/\u001B[39m\u001B[38;5;124m\"\u001B[39m \u001B[38;5;241m+\u001B[39m d, \u001B[38;5;124m\"\u001B[39m\u001B[38;5;124mrb\u001B[39m\u001B[38;5;124m\"\u001B[39m) \u001B[38;5;28;01mas\u001B[39;00m f_in:\n\u001B[0;32m----> 9\u001B[0m         data \u001B[38;5;241m=\u001B[39m pickle\u001B[38;5;241m.\u001B[39mload(f_in)\n\u001B[1;32m     10\u001B[0m         \u001B[38;5;28mprint\u001B[39m(d)\n\u001B[1;32m     11\u001B[0m     diagnostics\u001B[38;5;241m.\u001B[39mappend(data)\n",
      "\u001B[0;31mUnpicklingError\u001B[0m: could not find MARK"
     ]
    }
   ],
   "source": [
    "import os \n",
    "import pickle \n",
    "d_path = \"expts/DenseNN-poisson/diagnostics-0\"\n",
    "d_opts = os.listdir(d_path)\n",
    "\n",
    "diagnostics = []\n",
    "for d in d_opts:\n",
    "    with open(d_path + \"/\" + d, \"rb\") as f_in:\n",
    "        data = pickle.load(f_in)\n",
    "        print(d)\n",
    "    diagnostics.append(data)"
   ],
   "metadata": {
    "collapsed": false,
    "ExecuteTime": {
     "end_time": "2024-09-13T21:17:42.002859Z",
     "start_time": "2024-09-13T21:17:41.979961Z"
    }
   },
   "id": "8b78fd5a87aec69f",
   "execution_count": 2
  },
  {
   "cell_type": "code",
   "outputs": [
    {
     "data": {
      "text/plain": "[{'model_gen_error': Array(3.1733493e-05, dtype=float32),\n  'model_phys_error': Array(0.00028735, dtype=float32),\n  'ker_gen_error': Array(9.116177e-05, dtype=float32),\n  'ker_phys_error': Array(9.802623e-16, dtype=float32),\n  'pile': <function run.pile(W, X, Z, Y_train, Y_grid, kernel, config)>,\n  'iteration': 6000,\n  'train_loss': Array(0.00016278, dtype=float32)},\n {'model_gen_error': Array(3.2120017e-05, dtype=float32),\n  'model_phys_error': Array(0.00032179, dtype=float32),\n  'ker_gen_error': Array(9.116265e-05, dtype=float32),\n  'ker_phys_error': Array(1.1116794e-15, dtype=float32),\n  'pile': <function run.pile(W, X, Z, Y_train, Y_grid, kernel, config)>,\n  'iteration': 4000,\n  'train_loss': Array(0.00016507, dtype=float32)},\n {'model_gen_error': Array(3.1683125e-05, dtype=float32),\n  'model_phys_error': Array(0.00027663, dtype=float32),\n  'ker_gen_error': Array(9.116128e-05, dtype=float32),\n  'ker_phys_error': Array(9.038249e-16, dtype=float32),\n  'pile': <function run.pile(W, X, Z, Y_train, Y_grid, kernel, config)>,\n  'iteration': 8000,\n  'train_loss': Array(0.0001619, dtype=float32)},\n {'model_gen_error': Array(4.6251903, dtype=float32),\n  'model_phys_error': Array(0.01513007, dtype=float32),\n  'ker_gen_error': Array(8.693422e-05, dtype=float32),\n  'ker_phys_error': Array(2.0695121e-11, dtype=float32),\n  'pile': <function run.pile(W, X, Z, Y_train, Y_grid, kernel, config)>,\n  'iteration': 0,\n  'train_loss': 0},\n {'model_gen_error': Array(3.1985182e-05, dtype=float32),\n  'model_phys_error': Array(0.00038452, dtype=float32),\n  'ker_gen_error': Array(9.116373e-05, dtype=float32),\n  'ker_phys_error': Array(1.2428685e-15, dtype=float32),\n  'pile': <function run.pile(W, X, Z, Y_train, Y_grid, kernel, config)>,\n  'iteration': 2000,\n  'train_loss': Array(0.00016951, dtype=float32)},\n {'model_gen_error': Array(3.1681662e-05, dtype=float32),\n  'model_phys_error': Array(0.00028025, dtype=float32),\n  'ker_gen_error': Array(9.1161484e-05, dtype=float32),\n  'ker_phys_error': Array(9.306228e-16, dtype=float32),\n  'pile': <function run.pile(W, X, Z, Y_train, Y_grid, kernel, config)>,\n  'iteration': 7000,\n  'train_loss': Array(0.00016221, dtype=float32)},\n {'model_gen_error': Array(3.1884196e-05, dtype=float32),\n  'model_phys_error': Array(0.00030045, dtype=float32),\n  'ker_gen_error': Array(9.116216e-05, dtype=float32),\n  'ker_phys_error': Array(1.0456934e-15, dtype=float32),\n  'pile': <function run.pile(W, X, Z, Y_train, Y_grid, kernel, config)>,\n  'iteration': 5000,\n  'train_loss': Array(0.00016369, dtype=float32)}]"
     },
     "execution_count": 3,
     "metadata": {},
     "output_type": "execute_result"
    }
   ],
   "source": [
    "diagnostics"
   ],
   "metadata": {
    "collapsed": false,
    "ExecuteTime": {
     "end_time": "2024-09-13T21:18:00.294945Z",
     "start_time": "2024-09-13T21:18:00.288264Z"
    }
   },
   "id": "e9b7aeffb8d95cbb",
   "execution_count": 3
  },
  {
   "cell_type": "code",
   "outputs": [],
   "source": [],
   "metadata": {
    "collapsed": false
   },
   "id": "938d1649bcbd78ed"
  }
 ],
 "metadata": {
  "kernelspec": {
   "display_name": "Python 3",
   "language": "python",
   "name": "python3"
  },
  "language_info": {
   "codemirror_mode": {
    "name": "ipython",
    "version": 2
   },
   "file_extension": ".py",
   "mimetype": "text/x-python",
   "name": "python",
   "nbconvert_exporter": "python",
   "pygments_lexer": "ipython2",
   "version": "2.7.6"
  }
 },
 "nbformat": 4,
 "nbformat_minor": 5
}
